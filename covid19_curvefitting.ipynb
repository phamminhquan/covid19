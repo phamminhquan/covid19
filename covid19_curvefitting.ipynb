{
 "cells": [
  {
   "cell_type": "markdown",
   "metadata": {},
   "source": [
    "## Importing libraries"
   ]
  },
  {
   "cell_type": "code",
   "execution_count": 135,
   "metadata": {},
   "outputs": [],
   "source": [
    "from IPython.display import display\n",
    "import numpy as np\n",
    "import csv\n",
    "import numpy.polynomial.polynomial as poly\n",
    "import matplotlib.pyplot as plt\n",
    "import ipywidgets as widgets\n",
    "%matplotlib inline"
   ]
  },
  {
   "cell_type": "markdown",
   "metadata": {},
   "source": [
    "## Parsing data from CSV file"
   ]
  },
  {
   "cell_type": "code",
   "execution_count": 52,
   "metadata": {},
   "outputs": [],
   "source": [
    "# Parse data as csv file\n",
    "data = []\n",
    "with open('./data/time_series_covid_19_confirmed.csv', mode='r') as file:\n",
    "    csv_reader = csv.reader(file, delimiter=',')\n",
    "    line_count = 0\n",
    "    for row in csv_reader:\n",
    "        temp = {}\n",
    "        if line_count==0:\n",
    "            keys = row\n",
    "        else:\n",
    "            for i in range(len(keys)):\n",
    "                temp[keys[i]] = row[i]\n",
    "            data_sample = {key: temp[key] for key in keys}\n",
    "            del temp\n",
    "            data.append(data_sample)\n",
    "        line_count += 1\n",
    "        \n",
    "# filter unwanted keys\n",
    "filtered_out_keys = ['Province/State', 'Lat', 'Long']\n",
    "new_data = []\n",
    "for sample in data:\n",
    "    for key in filtered_out_keys:\n",
    "        del(sample[key])\n",
    "    new_data.append(sample)\n",
    "data = new_data\n",
    "\n",
    "# turn time series data into array\n",
    "new_data = []\n",
    "for i in range(len(data)):\n",
    "    sample = {'Country/Region': '', 'vec': []}\n",
    "    for k in data[i]:\n",
    "        if k == 'Country/Region':\n",
    "            sample[k] = data[i][k]\n",
    "        else:\n",
    "            sample['vec'].append(int(data[i][k]))\n",
    "    sample['vec'] = np.array(sample['vec'])\n",
    "    new_data.append(sample)\n",
    "data = new_data\n",
    "\n",
    "# find unique country values\n",
    "unique_countries = []\n",
    "for i in range(len(data)):\n",
    "    if data[i]['Country/Region'] not in unique_countries:\n",
    "        unique_countries.append(data[i]['Country/Region'])  \n",
    "\n",
    "# aggregate data from same country\n",
    "new_data = {}\n",
    "for i in range(len(unique_countries)):\n",
    "    new_data[unique_countries[i]] = np.zeros(30)\n",
    "for i in range(len(data)):\n",
    "    new_data[data[i]['Country/Region']] += data[i]['vec']\n",
    "data = new_data"
   ]
  },
  {
   "cell_type": "markdown",
   "metadata": {},
   "source": [
    "## Pick a country"
   ]
  },
  {
   "cell_type": "code",
   "execution_count": 137,
   "metadata": {},
   "outputs": [
    {
     "data": {
      "application/vnd.jupyter.widget-view+json": {
       "model_id": "5d36826e4b534b4bab16c54ced5f6fe3",
       "version_major": 2,
       "version_minor": 0
      },
      "text/plain": [
       "Dropdown(description='Country:', options=('Mainland China', 'Thailand', 'Japan', 'South Korea', 'Taiwan', 'US'…"
      ]
     },
     "metadata": {},
     "output_type": "display_data"
    }
   ],
   "source": [
    "# Create widgets for map\n",
    "country_widget = widgets.Dropdown(\n",
    "    options=unique_countries,\n",
    "    #value='',\n",
    "    description='Country:',\n",
    "    disabled=False,\n",
    ")\n",
    "display(country_widget)"
   ]
  },
  {
   "cell_type": "markdown",
   "metadata": {},
   "source": [
    "## Pick order of polynomials"
   ]
  },
  {
   "cell_type": "code",
   "execution_count": 145,
   "metadata": {},
   "outputs": [
    {
     "data": {
      "application/vnd.jupyter.widget-view+json": {
       "model_id": "7777a8b45bf6405890e6e78b66b235a9",
       "version_major": 2,
       "version_minor": 0
      },
      "text/plain": [
       "BoundedIntText(value=1, description='Order:', max=10, min=1)"
      ]
     },
     "metadata": {},
     "output_type": "display_data"
    }
   ],
   "source": [
    "order_widget = widgets.BoundedIntText(\n",
    "    value=1,\n",
    "    min=1,\n",
    "    max=10,\n",
    "    step=1,\n",
    "    description='Order:',\n",
    "    disabled=False\n",
    ")\n",
    "display(order_widget)"
   ]
  },
  {
   "cell_type": "markdown",
   "metadata": {},
   "source": [
    "## Curve fitting"
   ]
  },
  {
   "cell_type": "code",
   "execution_count": 150,
   "metadata": {},
   "outputs": [
    {
     "data": {
      "image/png": "[encoded data removed]",
      "text/plain": [
       "<Figure size 432x288 with 1 Axes>"
      ]
     },
     "metadata": {
      "needs_background": "light"
     },
     "output_type": "display_data"
    }
   ],
   "source": [
    "country = country_widget.value\n",
    "order = order_widget.value\n",
    "t = np.arange(30)\n",
    "coefs = poly.polyfit(t, data[country], order)\n",
    "ffit = poly.polyval(t, coefs)\n",
    "plt.figure()\n",
    "plt.plot(x, data[country], 'ko', label=\"Original Noised Data\")\n",
    "plt.plot(x, ffit, 'r-', label=\"Fitted Curve\")\n",
    "plt.legend()\n",
    "plt.title('Covid19 confirmed cases of ' + country + ' with order ' + str(order))\n",
    "plt.xlabel('Days from 1/22/20')\n",
    "plt.ylabel('Number of cases')\n",
    "plt.show()"
   ]
  },
  {
   "cell_type": "code",
   "execution_count": null,
   "metadata": {},
   "outputs": [],
   "source": []
  }
 ],
 "metadata": {
  "kernelspec": {
   "display_name": "Python 3",
   "language": "python",
   "name": "python3"
  },
  "language_info": {
   "codemirror_mode": {
    "name": "ipython",
    "version": 3
   },
   "file_extension": ".py",
   "mimetype": "text/x-python",
   "name": "python",
   "nbconvert_exporter": "python",
   "pygments_lexer": "ipython3",
   "version": "3.7.5"
  }
 },
 "nbformat": 4,
 "nbformat_minor": 4
}
